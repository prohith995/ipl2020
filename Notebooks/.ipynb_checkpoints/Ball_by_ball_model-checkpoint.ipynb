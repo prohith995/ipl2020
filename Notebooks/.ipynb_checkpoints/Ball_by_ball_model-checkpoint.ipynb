{
 "cells": [
  {
   "cell_type": "code",
   "execution_count": 1,
   "metadata": {},
   "outputs": [],
   "source": [
    "import pandas as pd\n",
    "import os\n",
    "os.chdir('C:/Users/nxf55806/Documents/Personal/Github/ipl2020/')\n",
    "\n",
    "matches = pd.read_csv(\"Raw_Data/kaggle2_matches.csv\")\n",
    "balls = pd.read_csv(\"Raw_Data/kaggle2_deliveries.csv\")"
   ]
  },
  {
   "cell_type": "code",
   "execution_count": 2,
   "metadata": {},
   "outputs": [],
   "source": [
    "df = pd.merge(matches[['id', 'season', 'city', 'venue']],\n",
    "              balls[['match_id', 'inning', 'batting_team', 'bowling_team', 'over', 'batsman', \n",
    "                     'non_striker', 'bowler', 'batsman_runs']],\n",
    "              left_on='id', right_on='match_id', how='right')\n",
    "\n",
    "df.drop(columns=['id', 'venue', 'match_id'], inplace=True)"
   ]
  },
  {
   "cell_type": "code",
   "execution_count": 5,
   "metadata": {
    "scrolled": true
   },
   "outputs": [
    {
     "data": {
      "text/plain": [
       "season           int64\n",
       "city            object\n",
       "inning           int64\n",
       "batting_team    object\n",
       "bowling_team    object\n",
       "over             int64\n",
       "batsman         object\n",
       "non_striker     object\n",
       "bowler          object\n",
       "batsman_runs     int64\n",
       "dtype: object"
      ]
     },
     "execution_count": 5,
     "metadata": {},
     "output_type": "execute_result"
    }
   ],
   "source": [
    "df.dtypes"
   ]
  },
  {
   "cell_type": "code",
   "execution_count": 10,
   "metadata": {},
   "outputs": [
    {
     "data": {
      "text/plain": [
       "array([2017, 2008, 2009, 2010, 2011, 2012, 2013, 2014, 2015, 2016, 2018,\n",
       "       2019], dtype=int64)"
      ]
     },
     "execution_count": 10,
     "metadata": {},
     "output_type": "execute_result"
    }
   ],
   "source": [
    "df['season'].unique()"
   ]
  },
  {
   "cell_type": "code",
   "execution_count": 7,
   "metadata": {},
   "outputs": [],
   "source": [
    "str_cols = list(df.dtypes[(df.dtypes == object)].index)\n",
    "df1 = pd.concat([df, pd.get_dummies(df[str_cols], drop_first=True)], axis=1)\n",
    "df1 = df1.drop(columns = str_cols)"
   ]
  },
  {
   "cell_type": "code",
   "execution_count": 13,
   "metadata": {},
   "outputs": [],
   "source": [
    "df_train = df1[df1['season'] == 2019]\n",
    "df_test = df1[df1['season'] != 2019]\n",
    "\n",
    "X_train = df_train.drop(columns = ['batsman_runs', 'season'])\n",
    "y_train = df_train['batsman_runs']\n",
    "\n",
    "X_test = df_test.drop(columns = ['batsman_runs', 'season'])\n",
    "y_test = df_test['batsman_runs']"
   ]
  },
  {
   "cell_type": "code",
   "execution_count": 14,
   "metadata": {},
   "outputs": [
    {
     "name": "stderr",
     "output_type": "stream",
     "text": [
      "C:\\Users\\nxf55806\\AppData\\Local\\Continuum\\anaconda3\\lib\\site-packages\\statsmodels\\base\\model.py:1294: RuntimeWarning: invalid value encountered in true_divide\n",
      "  return self.params / self.bse\n",
      "C:\\Users\\nxf55806\\AppData\\Local\\Continuum\\anaconda3\\lib\\site-packages\\scipy\\stats\\_distn_infrastructure.py:901: RuntimeWarning: invalid value encountered in greater\n",
      "  return (a < x) & (x < b)\n",
      "C:\\Users\\nxf55806\\AppData\\Local\\Continuum\\anaconda3\\lib\\site-packages\\scipy\\stats\\_distn_infrastructure.py:901: RuntimeWarning: invalid value encountered in less\n",
      "  return (a < x) & (x < b)\n",
      "C:\\Users\\nxf55806\\AppData\\Local\\Continuum\\anaconda3\\lib\\site-packages\\scipy\\stats\\_distn_infrastructure.py:1892: RuntimeWarning: invalid value encountered in less_equal\n",
      "  cond2 = cond0 & (x <= _a)\n"
     ]
    }
   ],
   "source": [
    "import statsmodels.api as sm\n",
    "mod = sm.OLS(y_train, X_train)\n",
    "fii = mod.fit()\n",
    "p_values = fii.summary2().tables[1]['P>|t|']\n",
    "table = fii.summary2().tables[1]\n",
    "table"
   ]
  },
  {
   "cell_type": "code",
   "execution_count": 15,
   "metadata": {},
   "outputs": [],
   "source": [
    "from sklearn.linear_model import LinearRegression\n",
    "\n",
    "lr = LinearRegression()\n",
    "lr.fit(X_train, y_train)\n",
    "y_train_pred = lr.predict(X_train)\n",
    "y_test_pred = lr.predict(X_test)"
   ]
  },
  {
   "cell_type": "code",
   "execution_count": 17,
   "metadata": {},
   "outputs": [
    {
     "data": {
      "text/plain": [
       "-6.317589283869168e+19"
      ]
     },
     "execution_count": 17,
     "metadata": {},
     "output_type": "execute_result"
    }
   ],
   "source": [
    "from sklearn import metrics\n",
    "metrics.r2_score(y_train, y_train_pred)    \n",
    "metrics.r2_score(y_test, y_test_pred)    "
   ]
  },
  {
   "cell_type": "code",
   "execution_count": null,
   "metadata": {},
   "outputs": [],
   "source": [
    "\n",
    "from sklearn.ensemble import RandomForestRegressor\n",
    "from sklearn.model_selection import GridSearchCV\n",
    "\n",
    "cv_grid = {'n_estimators': [50, 200, 500],\n",
    "               'max_features': [20, 30, 40],\n",
    "               'max_depth': [25, 50],\n",
    "               'min_samples_split': [2, 4, 8],\n",
    "               'min_samples_leaf': [3, 5, 8],\n",
    "               'bootstrap': [True]}\n",
    "\n",
    "cv_grid_2 = {'n_estimators': [100, 250, 500],\n",
    "               'max_features': [25, 60, 120, 250],\n",
    "               'max_depth': [50, 100],\n",
    "               'min_samples_split': [2, 4],\n",
    "               'min_samples_leaf': [1, 3, 5],\n",
    "               'bootstrap': [True]}\n",
    "\n",
    "rf = RandomForestRegressor()\n",
    "rf_cv = GridSearchCV(rf, cv_grid, verbose = 10, n_jobs = -1)\n",
    "rf_cv.fit(X_train, y_train)\n",
    "rf_cv.best_params_\n",
    "\n",
    "rf_cv_2 = GridSearchCV(rf, cv_grid_2, verbose = 10, n_jobs = -1)\n",
    "rf_cv_2.fit(X_train, y_train)\n",
    "rf_cv_2.best_params_\n",
    "\n",
    "rf = RandomForestRegressor(n_estimators = 500, max_features= 20, max_depth= 50,\n",
    "                           min_samples_split= 8, min_samples_leaf= 8, bootstrap= True)\n",
    "rf.fit(X_train, y_train)\n",
    "y_train_pred = rf.predict(X_train)\n",
    "y_test_pred = rf.predict(X_test)\n",
    "\n",
    "def mean_absolute_percentage_error(y_true, y_pred): \n",
    "    return np.mean(np.abs((y_true - y_pred) / y_true)) * 100\n",
    "\n",
    "metrics.r2_score(y_train, y_train_pred)\n",
    "metrics.r2_score(y_test, y_test_pred)    \n",
    "mean_absolute_percentage_error(y_train, y_train_pred)\n",
    "mean_absolute_percentage_error(y_test, y_test_pred)    \n",
    "\n",
    "df_test['prediction'] = y_test_pred\n",
    "df_test.sort_values('prediction', ascending=False, inplace=True)\n"
   ]
  }
 ],
 "metadata": {
  "kernelspec": {
   "display_name": "Python 3",
   "language": "python",
   "name": "python3"
  },
  "language_info": {
   "codemirror_mode": {
    "name": "ipython",
    "version": 3
   },
   "file_extension": ".py",
   "mimetype": "text/x-python",
   "name": "python",
   "nbconvert_exporter": "python",
   "pygments_lexer": "ipython3",
   "version": "3.7.3"
  }
 },
 "nbformat": 4,
 "nbformat_minor": 2
}
